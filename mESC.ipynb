{
 "cells": [
  {
   "cell_type": "markdown",
   "metadata": {},
   "source": [
    "# mESC analysis using Cyclum\n",
    "\n",
    "We redesigned the core of Cyclum to a more friendly object oriented core. \n",
    "\n",
    "We still use the mESC dataset. For simplicity we have converted the dataset into TPM.\n",
    "\n",
    "The original count data is available at ArrayExpress: [E-MTAB-2805](https://www.ebi.ac.uk/arrayexpress/experiments/E-MTAB-2805/)."
   ]
  },
  {
   "cell_type": "markdown",
   "metadata": {},
   "source": [
    "## Import necessary packages"
   ]
  },
  {
   "cell_type": "code",
   "execution_count": 1,
   "metadata": {
    "pycharm": {
     "is_executing": false,
     "name": "#%%\n"
    }
   },
   "outputs": [],
   "source": [
    "%matplotlib inline\n",
    "%load_ext autoreload\n",
    "%autoreload 1"
   ]
  },
  {
   "cell_type": "code",
   "execution_count": 2,
   "metadata": {
    "pycharm": {
     "is_executing": false,
     "name": "#%%\n"
    }
   },
   "outputs": [],
   "source": [
    "import pandas as pd\n",
    "import numpy as np\n",
    "import sklearn as skl"
   ]
  },
  {
   "cell_type": "code",
   "execution_count": 3,
   "metadata": {
    "pycharm": {
     "is_executing": false,
     "name": "#%%\n"
    }
   },
   "outputs": [
    {
     "name": "stderr",
     "output_type": "stream",
     "text": [
      "Using TensorFlow backend.\n"
     ]
    }
   ],
   "source": [
    "import cyclum.tuning\n",
    "import cyclum.models\n",
    "from cyclum import writer\n"
   ]
  },
  {
   "cell_type": "markdown",
   "metadata": {},
   "source": [
    "## Read data\n",
    "Here we have label, so we load both. However, the label is not used until evaluation. We have transformed the data into TPM values in R to facilitate the analysis. We further transform it to `s`tandardized and log2 `t`ransformed values, `sttpm`."
   ]
  },
  {
   "cell_type": "code",
   "execution_count": 7,
   "metadata": {
    "pycharm": {
     "is_executing": false,
     "name": "#%%\n"
    }
   },
   "outputs": [],
   "source": [
    "input_file_mask = 'data/mesc-tpm'\n",
    "\n",
    "def preprocess(input_file_mask):\n",
    "    \"\"\"\n",
    "    Read in data and perform log transform (log2(x+1)), centering (mean = 1) and scaling (sd = 1).\n",
    "    \"\"\"\n",
    "    tpm = writer.read_df_from_binary(input_file_mask).T\n",
    "    sttpm = pd.DataFrame(data=skl.preprocessing.scale(np.log2(tpm.values + 1)), index=tpm.index, columns=tpm.columns)\n",
    "    \n",
    "    label = pd.read_csv(input_file_mask + '-label.txt', sep=\"\\t\", index_col=0).T\n",
    "    return sttpm, label\n",
    "\n",
    "sttpm, label = preprocess(input_file_mask)"
   ]
  },
  {
   "cell_type": "code",
   "execution_count": 8,
   "metadata": {
    "pycharm": {
     "is_executing": false,
     "name": "#%%\n"
    }
   },
   "outputs": [
    {
     "data": {
      "text/plain": [
       "(288, 38293)"
      ]
     },
     "execution_count": 8,
     "metadata": {},
     "output_type": "execute_result"
    }
   ],
   "source": [
    "sttpm.shape"
   ]
  },
  {
   "cell_type": "markdown",
   "metadata": {},
   "source": [
    "There is no convention whether cells should be columns or rows. Here we require cells to be rows."
   ]
  },
  {
   "cell_type": "markdown",
   "metadata": {},
   "source": [
    "## Set up the model and fit the model\n",
    "\n",
    "Here we create an CyclumAutoTune object, and use it the whole dataset (`sttpm`) to tune it. The dimensionality is automatically determined, and we show a barplot to illustrate the selection. Note that using a subset of `sttpm` can accelerate it. ETA is available, but for each step. If `max_linear_dims` is 5, 6 such training step will be needed. To run it faster, `max_linear_dims` may be reduced to no less than 2."
   ]
  },
  {
   "cell_type": "code",
   "execution_count": 9,
   "metadata": {
    "pycharm": {
     "is_executing": false,
     "name": "#%%\n"
    },
    "scrolled": true
   },
   "outputs": [
    {
     "name": "stdout",
     "output_type": "stream",
     "text": [
      "Auto tuning number of linear components...\n",
      "Performing PCA...\n",
      "Training Autoencoder with...\n",
      "    0 linear dimensions...\n",
      "WARNING:tensorflow:From /home/shaoheng/miniconda3/envs/tf-gpu/lib/python3.7/site-packages/keras/backend/tensorflow_backend.py:517: The name tf.placeholder is deprecated. Please use tf.compat.v1.placeholder instead.\n",
      "\n",
      "WARNING:tensorflow:From /home/shaoheng/miniconda3/envs/tf-gpu/lib/python3.7/site-packages/keras/backend/tensorflow_backend.py:4185: The name tf.truncated_normal is deprecated. Please use tf.random.truncated_normal instead.\n",
      "\n",
      "WARNING:tensorflow:From /home/shaoheng/miniconda3/envs/tf-gpu/lib/python3.7/site-packages/keras/backend/tensorflow_backend.py:131: The name tf.get_default_graph is deprecated. Please use tf.compat.v1.get_default_graph instead.\n",
      "\n",
      "WARNING:tensorflow:From /home/shaoheng/miniconda3/envs/tf-gpu/lib/python3.7/site-packages/keras/backend/tensorflow_backend.py:133: The name tf.placeholder_with_default is deprecated. Please use tf.compat.v1.placeholder_with_default instead.\n",
      "\n",
      "WARNING:tensorflow:From /home/shaoheng/miniconda3/envs/tf-gpu/lib/python3.7/site-packages/keras/backend/tensorflow_backend.py:3445: calling dropout (from tensorflow.python.ops.nn_ops) with keep_prob is deprecated and will be removed in a future version.\n",
      "Instructions for updating:\n",
      "Please use `rate` instead of `keep_prob`. Rate should be set to `rate = 1 - keep_prob`.\n",
      "WARNING:tensorflow:From /home/shaoheng/miniconda3/envs/tf-gpu/lib/python3.7/site-packages/keras/optimizers.py:790: The name tf.train.Optimizer is deprecated. Please use tf.compat.v1.train.Optimizer instead.\n",
      "\n",
      "WARNING:tensorflow:From /home/shaoheng/miniconda3/envs/tf-gpu/lib/python3.7/site-packages/keras/backend/tensorflow_backend.py:986: The name tf.assign_add is deprecated. Please use tf.compat.v1.assign_add instead.\n",
      "\n",
      "epoch: 100/500, loss:  0.7183, time elapsed:  50.90s, time left:  203.61s\n",
      "epoch: 200/500, loss:  0.7113, time elapsed:  82.43s, time left:  123.65s\n",
      "epoch: 300/500, loss:  0.7084, time elapsed:  114.19s, time left:  76.13s\n",
      "epoch: 400/500, loss:  0.7064, time elapsed:  145.56s, time left:  36.39s\n",
      "epoch: 500/500, loss:  0.7061, time elapsed:  177.04s, time left:  0.00s\n",
      "[0.7061273389392428]\n",
      "[0.6834711496280971, 0.6739115521145238, 0.6668003108273485, 0.6607520129983886, 0.6550231866078591, 0.6501484225177175, 0.6453883289383507]\n",
      "    1 linear dimensions...\n",
      "epoch: 100/500, loss:  0.6778, time elapsed:  32.05s, time left:  128.20s\n",
      "epoch: 200/500, loss:  0.6740, time elapsed:  63.86s, time left:  95.79s\n",
      "epoch: 300/500, loss:  0.6727, time elapsed:  95.39s, time left:  63.59s\n",
      "epoch: 400/500, loss:  0.6722, time elapsed:  127.35s, time left:  31.84s\n",
      "epoch: 500/500, loss:  0.6722, time elapsed:  159.06s, time left:  0.00s\n",
      "[0.7061273389392428, 0.6722208989991082]\n",
      "[0.6834711496280971, 0.6739115521145238, 0.6668003108273485, 0.6607520129983886, 0.6550231866078591, 0.6501484225177175, 0.6453883289383507]\n",
      "    2 linear dimensions...\n",
      "epoch: 100/500, loss:  0.6703, time elapsed:  32.65s, time left:  130.60s\n",
      "epoch: 200/500, loss:  0.6674, time elapsed:  64.46s, time left:  96.69s\n",
      "epoch: 300/500, loss:  0.6666, time elapsed:  96.08s, time left:  64.05s\n",
      "epoch: 400/500, loss:  0.6663, time elapsed:  128.35s, time left:  32.09s\n",
      "epoch: 500/500, loss:  0.6658, time elapsed:  160.50s, time left:  0.00s\n",
      "[0.7061273389392428, 0.6722208989991082, 0.6657796568340726]\n",
      "[0.6834711496280971, 0.6739115521145238, 0.6668003108273485, 0.6607520129983886, 0.6550231866078591, 0.6501484225177175, 0.6453883289383507]\n",
      "Found! Use 1 linear components...\n",
      "Early stop disabled, continue to check all cases...\n",
      "    3 linear dimensions...\n",
      "epoch: 100/500, loss:  0.6643, time elapsed:  33.12s, time left:  132.49s\n",
      "epoch: 200/500, loss:  0.6618, time elapsed:  65.55s, time left:  98.33s\n",
      "epoch: 300/500, loss:  0.6611, time elapsed:  100.78s, time left:  67.19s\n",
      "epoch: 400/500, loss:  0.6606, time elapsed:  133.27s, time left:  33.32s\n",
      "epoch: 500/500, loss:  0.6601, time elapsed:  166.16s, time left:  0.00s\n",
      "[0.7061273389392428, 0.6722208989991082, 0.6657796568340726, 0.6600636111365424]\n",
      "[0.6834711496280971, 0.6739115521145238, 0.6668003108273485, 0.6607520129983886, 0.6550231866078591, 0.6501484225177175, 0.6453883289383507]\n",
      "    4 linear dimensions...\n",
      "epoch: 100/500, loss:  0.6589, time elapsed:  33.73s, time left:  134.94s\n",
      "epoch: 200/500, loss:  0.6563, time elapsed:  66.88s, time left:  100.32s\n",
      "epoch: 300/500, loss:  0.6554, time elapsed:  99.72s, time left:  66.48s\n",
      "epoch: 400/500, loss:  0.6548, time elapsed:  132.53s, time left:  33.13s\n",
      "epoch: 500/500, loss:  0.6544, time elapsed:  165.80s, time left:  0.00s\n",
      "[0.7061273389392428, 0.6722208989991082, 0.6657796568340726, 0.6600636111365424, 0.6544470058547126]\n",
      "[0.6834711496280971, 0.6739115521145238, 0.6668003108273485, 0.6607520129983886, 0.6550231866078591, 0.6501484225177175, 0.6453883289383507]\n",
      "    5 linear dimensions...\n",
      "epoch: 100/500, loss:  0.6529, time elapsed:  32.75s, time left:  130.98s\n",
      "epoch: 200/500, loss:  0.6505, time elapsed:  65.43s, time left:  98.15s\n",
      "epoch: 300/500, loss:  0.6501, time elapsed:  99.31s, time left:  66.21s\n",
      "epoch: 400/500, loss:  0.6499, time elapsed:  132.17s, time left:  33.04s\n",
      "epoch: 500/500, loss:  0.6495, time elapsed:  165.80s, time left:  0.00s\n",
      "[0.7061273389392428, 0.6722208989991082, 0.6657796568340726, 0.6600636111365424, 0.6544470058547126, 0.6495057344436646]\n",
      "[0.6834711496280971, 0.6739115521145238, 0.6668003108273485, 0.6607520129983886, 0.6550231866078591, 0.6501484225177175, 0.6453883289383507]\n"
     ]
    }
   ],
   "source": [
    "model = cyclum.tuning.CyclumAutoTune(sttpm, max_linear_dims=5, \n",
    "                                     epochs=500, rate=2e-4, verbose=100,\n",
    "                                     encoder_width=[30, 20])"
   ]
  },
  {
   "cell_type": "code",
   "execution_count": 10,
   "metadata": {
    "pycharm": {
     "is_executing": false,
     "name": "#%%\n"
    }
   },
   "outputs": [
    {
     "data": {
      "image/png": "[encoded data removed]",
      "text/plain": [
       "<Figure size 432x288 with 1 Axes>"
      ]
     },
     "execution_count": 10,
     "metadata": {},
     "output_type": "execute_result"
    },
    {
     "data": {
      "image/png": "[encoded data removed]",
      "text/plain": [
       "<Figure size 432x288 with 1 Axes>"
      ]
     },
     "metadata": {
      "needs_background": "light"
     },
     "output_type": "display_data"
    }
   ],
   "source": [
    "model.show_bar()"
   ]
  },
  {
   "cell_type": "markdown",
   "metadata": {},
   "source": [
    "We show the structure of the best network."
   ]
  },
  {
   "cell_type": "code",
   "execution_count": 11,
   "metadata": {
    "pycharm": {
     "is_executing": false,
     "name": "#%%\n"
    }
   },
   "outputs": [
    {
     "data": {
      "image/svg+xml": [
       "<svg height=\"968pt\" viewBox=\"0.00 0.00 734.50 968.00\" width=\"735pt\" xmlns=\"http://www.w3.org/2000/svg\" xmlns:xlink=\"http://www.w3.org/1999/xlink\">\n",
       "<g class=\"graph\" id=\"graph0\" transform=\"scale(1 1) rotate(0) translate(4 964)\">\n",
       "<title>G</title>\n",
       "<polygon fill=\"#ffffff\" points=\"-4,4 -4,-964 730.5,-964 730.5,4 -4,4\" stroke=\"transparent\"/>\n",
       "<!-- 139685154866640 -->\n",
       "<g class=\"node\" id=\"node1\">\n",
       "<title>139685154866640</title>\n",
       "<polygon fill=\"none\" points=\"305,-913.5 305,-959.5 571,-959.5 571,-913.5 305,-913.5\" stroke=\"#000000\"/>\n",
       "<text fill=\"#000000\" font-family=\"Times,serif\" font-size=\"14.00\" text-anchor=\"middle\" x=\"361.5\" y=\"-932.8\">input: InputLayer</text>\n",
       "<polyline fill=\"none\" points=\"418,-913.5 418,-959.5 \" stroke=\"#000000\"/>\n",
       "<text fill=\"#000000\" font-family=\"Times,serif\" font-size=\"14.00\" text-anchor=\"middle\" x=\"446\" y=\"-944.3\">input:</text>\n",
       "<polyline fill=\"none\" points=\"418,-936.5 474,-936.5 \" stroke=\"#000000\"/>\n",
       "<text fill=\"#000000\" font-family=\"Times,serif\" font-size=\"14.00\" text-anchor=\"middle\" x=\"446\" y=\"-921.3\">output:</text>\n",
       "<polyline fill=\"none\" points=\"474,-913.5 474,-959.5 \" stroke=\"#000000\"/>\n",
       "<text fill=\"#000000\" font-family=\"Times,serif\" font-size=\"14.00\" text-anchor=\"middle\" x=\"522.5\" y=\"-944.3\">(None, 38293)</text>\n",
       "<polyline fill=\"none\" points=\"474,-936.5 571,-936.5 \" stroke=\"#000000\"/>\n",
       "<text fill=\"#000000\" font-family=\"Times,serif\" font-size=\"14.00\" text-anchor=\"middle\" x=\"522.5\" y=\"-921.3\">(None, 38293)</text>\n",
       "</g>\n",
       "<!-- 139685154867088 -->\n",
       "<g class=\"node\" id=\"node2\">\n",
       "<title>139685154867088</title>\n",
       "<polygon fill=\"none\" points=\"202.5,-830.5 202.5,-876.5 497.5,-876.5 497.5,-830.5 202.5,-830.5\" stroke=\"#000000\"/>\n",
       "<text fill=\"#000000\" font-family=\"Times,serif\" font-size=\"14.00\" text-anchor=\"middle\" x=\"273.5\" y=\"-849.8\">encoder0_scale: Dense</text>\n",
       "<polyline fill=\"none\" points=\"344.5,-830.5 344.5,-876.5 \" stroke=\"#000000\"/>\n",
       "<text fill=\"#000000\" font-family=\"Times,serif\" font-size=\"14.00\" text-anchor=\"middle\" x=\"372.5\" y=\"-861.3\">input:</text>\n",
       "<polyline fill=\"none\" points=\"344.5,-853.5 400.5,-853.5 \" stroke=\"#000000\"/>\n",
       "<text fill=\"#000000\" font-family=\"Times,serif\" font-size=\"14.00\" text-anchor=\"middle\" x=\"372.5\" y=\"-838.3\">output:</text>\n",
       "<polyline fill=\"none\" points=\"400.5,-830.5 400.5,-876.5 \" stroke=\"#000000\"/>\n",
       "<text fill=\"#000000\" font-family=\"Times,serif\" font-size=\"14.00\" text-anchor=\"middle\" x=\"449\" y=\"-861.3\">(None, 38293)</text>\n",
       "<polyline fill=\"none\" points=\"400.5,-853.5 497.5,-853.5 \" stroke=\"#000000\"/>\n",
       "<text fill=\"#000000\" font-family=\"Times,serif\" font-size=\"14.00\" text-anchor=\"middle\" x=\"449\" y=\"-838.3\">(None, 30)</text>\n",
       "</g>\n",
       "<!-- 139685154866640&#45;&gt;139685154867088 -->\n",
       "<g class=\"edge\" id=\"edge1\">\n",
       "<title>139685154866640-&gt;139685154867088</title>\n",
       "<path d=\"M413.4871,-913.3799C403.7473,-904.1935 392.411,-893.5013 382.0354,-883.7152\" fill=\"none\" stroke=\"#000000\"/>\n",
       "<polygon fill=\"#000000\" points=\"384.3629,-881.0993 374.6867,-876.784 379.5599,-886.1916 384.3629,-881.0993\" stroke=\"#000000\"/>\n",
       "</g>\n",
       "<!-- 139685154391440 -->\n",
       "<g class=\"node\" id=\"node11\">\n",
       "<title>139685154391440</title>\n",
       "<polygon fill=\"none\" points=\"455.5,-747.5 455.5,-793.5 726.5,-793.5 726.5,-747.5 455.5,-747.5\" stroke=\"#000000\"/>\n",
       "<text fill=\"#000000\" font-family=\"Times,serif\" font-size=\"14.00\" text-anchor=\"middle\" x=\"514.5\" y=\"-766.8\">bypass_out: Dense</text>\n",
       "<polyline fill=\"none\" points=\"573.5,-747.5 573.5,-793.5 \" stroke=\"#000000\"/>\n",
       "<text fill=\"#000000\" font-family=\"Times,serif\" font-size=\"14.00\" text-anchor=\"middle\" x=\"601.5\" y=\"-778.3\">input:</text>\n",
       "<polyline fill=\"none\" points=\"573.5,-770.5 629.5,-770.5 \" stroke=\"#000000\"/>\n",
       "<text fill=\"#000000\" font-family=\"Times,serif\" font-size=\"14.00\" text-anchor=\"middle\" x=\"601.5\" y=\"-755.3\">output:</text>\n",
       "<polyline fill=\"none\" points=\"629.5,-747.5 629.5,-793.5 \" stroke=\"#000000\"/>\n",
       "<text fill=\"#000000\" font-family=\"Times,serif\" font-size=\"14.00\" text-anchor=\"middle\" x=\"678\" y=\"-778.3\">(None, 38293)</text>\n",
       "<polyline fill=\"none\" points=\"629.5,-770.5 726.5,-770.5 \" stroke=\"#000000\"/>\n",
       "<text fill=\"#000000\" font-family=\"Times,serif\" font-size=\"14.00\" text-anchor=\"middle\" x=\"678\" y=\"-755.3\">(None, 1)</text>\n",
       "</g>\n",
       "<!-- 139685154866640&#45;&gt;139685154391440 -->\n",
       "<g class=\"edge\" id=\"edge10\">\n",
       "<title>139685154866640-&gt;139685154391440</title>\n",
       "<path d=\"M466.819,-913.2571C479.3278,-902.6774 493.8608,-889.7011 506,-877 528.6546,-853.2967 551.6941,-824.0419 568.061,-802.1949\" fill=\"none\" stroke=\"#000000\"/>\n",
       "<polygon fill=\"#000000\" points=\"571.0566,-804.0316 574.2095,-793.9167 565.4371,-799.8577 571.0566,-804.0316\" stroke=\"#000000\"/>\n",
       "</g>\n",
       "<!-- 139685154792144 -->\n",
       "<g class=\"node\" id=\"node3\">\n",
       "<title>139685154792144</title>\n",
       "<polygon fill=\"none\" points=\"134.5,-747.5 134.5,-793.5 437.5,-793.5 437.5,-747.5 134.5,-747.5\" stroke=\"#000000\"/>\n",
       "<text fill=\"#000000\" font-family=\"Times,serif\" font-size=\"14.00\" text-anchor=\"middle\" x=\"219.5\" y=\"-766.8\">encoder0_dropout: Dropout</text>\n",
       "<polyline fill=\"none\" points=\"304.5,-747.5 304.5,-793.5 \" stroke=\"#000000\"/>\n",
       "<text fill=\"#000000\" font-family=\"Times,serif\" font-size=\"14.00\" text-anchor=\"middle\" x=\"332.5\" y=\"-778.3\">input:</text>\n",
       "<polyline fill=\"none\" points=\"304.5,-770.5 360.5,-770.5 \" stroke=\"#000000\"/>\n",
       "<text fill=\"#000000\" font-family=\"Times,serif\" font-size=\"14.00\" text-anchor=\"middle\" x=\"332.5\" y=\"-755.3\">output:</text>\n",
       "<polyline fill=\"none\" points=\"360.5,-747.5 360.5,-793.5 \" stroke=\"#000000\"/>\n",
       "<text fill=\"#000000\" font-family=\"Times,serif\" font-size=\"14.00\" text-anchor=\"middle\" x=\"399\" y=\"-778.3\">(None, 30)</text>\n",
       "<polyline fill=\"none\" points=\"360.5,-770.5 437.5,-770.5 \" stroke=\"#000000\"/>\n",
       "<text fill=\"#000000\" font-family=\"Times,serif\" font-size=\"14.00\" text-anchor=\"middle\" x=\"399\" y=\"-755.3\">(None, 30)</text>\n",
       "</g>\n",
       "<!-- 139685154867088&#45;&gt;139685154792144 -->\n",
       "<g class=\"edge\" id=\"edge2\">\n",
       "<title>139685154867088-&gt;139685154792144</title>\n",
       "<path d=\"M332.1724,-830.3799C325.364,-821.5502 317.483,-811.3295 310.1807,-801.8593\" fill=\"none\" stroke=\"#000000\"/>\n",
       "<polygon fill=\"#000000\" points=\"312.832,-799.5659 303.9539,-793.784 307.2886,-803.8404 312.832,-799.5659\" stroke=\"#000000\"/>\n",
       "</g>\n",
       "<!-- 139685154867792 -->\n",
       "<g class=\"node\" id=\"node4\">\n",
       "<title>139685154867792</title>\n",
       "<polygon fill=\"none\" points=\"140.5,-664.5 140.5,-710.5 431.5,-710.5 431.5,-664.5 140.5,-664.5\" stroke=\"#000000\"/>\n",
       "<text fill=\"#000000\" font-family=\"Times,serif\" font-size=\"14.00\" text-anchor=\"middle\" x=\"219.5\" y=\"-683.8\">encoder0_act: Activation</text>\n",
       "<polyline fill=\"none\" points=\"298.5,-664.5 298.5,-710.5 \" stroke=\"#000000\"/>\n",
       "<text fill=\"#000000\" font-family=\"Times,serif\" font-size=\"14.00\" text-anchor=\"middle\" x=\"326.5\" y=\"-695.3\">input:</text>\n",
       "<polyline fill=\"none\" points=\"298.5,-687.5 354.5,-687.5 \" stroke=\"#000000\"/>\n",
       "<text fill=\"#000000\" font-family=\"Times,serif\" font-size=\"14.00\" text-anchor=\"middle\" x=\"326.5\" y=\"-672.3\">output:</text>\n",
       "<polyline fill=\"none\" points=\"354.5,-664.5 354.5,-710.5 \" stroke=\"#000000\"/>\n",
       "<text fill=\"#000000\" font-family=\"Times,serif\" font-size=\"14.00\" text-anchor=\"middle\" x=\"393\" y=\"-695.3\">(None, 30)</text>\n",
       "<polyline fill=\"none\" points=\"354.5,-687.5 431.5,-687.5 \" stroke=\"#000000\"/>\n",
       "<text fill=\"#000000\" font-family=\"Times,serif\" font-size=\"14.00\" text-anchor=\"middle\" x=\"393\" y=\"-672.3\">(None, 30)</text>\n",
       "</g>\n",
       "<!-- 139685154792144&#45;&gt;139685154867792 -->\n",
       "<g class=\"edge\" id=\"edge3\">\n",
       "<title>139685154792144-&gt;139685154867792</title>\n",
       "<path d=\"M286,-747.3799C286,-739.1745 286,-729.7679 286,-720.8786\" fill=\"none\" stroke=\"#000000\"/>\n",
       "<polygon fill=\"#000000\" points=\"289.5001,-720.784 286,-710.784 282.5001,-720.784 289.5001,-720.784\" stroke=\"#000000\"/>\n",
       "</g>\n",
       "<!-- 139685154868112 -->\n",
       "<g class=\"node\" id=\"node5\">\n",
       "<title>139685154868112</title>\n",
       "<polygon fill=\"none\" points=\"148.5,-581.5 148.5,-627.5 423.5,-627.5 423.5,-581.5 148.5,-581.5\" stroke=\"#000000\"/>\n",
       "<text fill=\"#000000\" font-family=\"Times,serif\" font-size=\"14.00\" text-anchor=\"middle\" x=\"219.5\" y=\"-600.8\">encoder1_scale: Dense</text>\n",
       "<polyline fill=\"none\" points=\"290.5,-581.5 290.5,-627.5 \" stroke=\"#000000\"/>\n",
       "<text fill=\"#000000\" font-family=\"Times,serif\" font-size=\"14.00\" text-anchor=\"middle\" x=\"318.5\" y=\"-612.3\">input:</text>\n",
       "<polyline fill=\"none\" points=\"290.5,-604.5 346.5,-604.5 \" stroke=\"#000000\"/>\n",
       "<text fill=\"#000000\" font-family=\"Times,serif\" font-size=\"14.00\" text-anchor=\"middle\" x=\"318.5\" y=\"-589.3\">output:</text>\n",
       "<polyline fill=\"none\" points=\"346.5,-581.5 346.5,-627.5 \" stroke=\"#000000\"/>\n",
       "<text fill=\"#000000\" font-family=\"Times,serif\" font-size=\"14.00\" text-anchor=\"middle\" x=\"385\" y=\"-612.3\">(None, 30)</text>\n",
       "<polyline fill=\"none\" points=\"346.5,-604.5 423.5,-604.5 \" stroke=\"#000000\"/>\n",
       "<text fill=\"#000000\" font-family=\"Times,serif\" font-size=\"14.00\" text-anchor=\"middle\" x=\"385\" y=\"-589.3\">(None, 20)</text>\n",
       "</g>\n",
       "<!-- 139685154867792&#45;&gt;139685154868112 -->\n",
       "<g class=\"edge\" id=\"edge4\">\n",
       "<title>139685154867792-&gt;139685154868112</title>\n",
       "<path d=\"M286,-664.3799C286,-656.1745 286,-646.7679 286,-637.8786\" fill=\"none\" stroke=\"#000000\"/>\n",
       "<polygon fill=\"#000000\" points=\"289.5001,-637.784 286,-627.784 282.5001,-637.784 289.5001,-637.784\" stroke=\"#000000\"/>\n",
       "</g>\n",
       "<!-- 139685154865552 -->\n",
       "<g class=\"node\" id=\"node6\">\n",
       "<title>139685154865552</title>\n",
       "<polygon fill=\"none\" points=\"134.5,-498.5 134.5,-544.5 437.5,-544.5 437.5,-498.5 134.5,-498.5\" stroke=\"#000000\"/>\n",
       "<text fill=\"#000000\" font-family=\"Times,serif\" font-size=\"14.00\" text-anchor=\"middle\" x=\"219.5\" y=\"-517.8\">encoder1_dropout: Dropout</text>\n",
       "<polyline fill=\"none\" points=\"304.5,-498.5 304.5,-544.5 \" stroke=\"#000000\"/>\n",
       "<text fill=\"#000000\" font-family=\"Times,serif\" font-size=\"14.00\" text-anchor=\"middle\" x=\"332.5\" y=\"-529.3\">input:</text>\n",
       "<polyline fill=\"none\" points=\"304.5,-521.5 360.5,-521.5 \" stroke=\"#000000\"/>\n",
       "<text fill=\"#000000\" font-family=\"Times,serif\" font-size=\"14.00\" text-anchor=\"middle\" x=\"332.5\" y=\"-506.3\">output:</text>\n",
       "<polyline fill=\"none\" points=\"360.5,-498.5 360.5,-544.5 \" stroke=\"#000000\"/>\n",
       "<text fill=\"#000000\" font-family=\"Times,serif\" font-size=\"14.00\" text-anchor=\"middle\" x=\"399\" y=\"-529.3\">(None, 20)</text>\n",
       "<polyline fill=\"none\" points=\"360.5,-521.5 437.5,-521.5 \" stroke=\"#000000\"/>\n",
       "<text fill=\"#000000\" font-family=\"Times,serif\" font-size=\"14.00\" text-anchor=\"middle\" x=\"399\" y=\"-506.3\">(None, 20)</text>\n",
       "</g>\n",
       "<!-- 139685154868112&#45;&gt;139685154865552 -->\n",
       "<g class=\"edge\" id=\"edge5\">\n",
       "<title>139685154868112-&gt;139685154865552</title>\n",
       "<path d=\"M286,-581.3799C286,-573.1745 286,-563.7679 286,-554.8786\" fill=\"none\" stroke=\"#000000\"/>\n",
       "<polygon fill=\"#000000\" points=\"289.5001,-554.784 286,-544.784 282.5001,-554.784 289.5001,-554.784\" stroke=\"#000000\"/>\n",
       "</g>\n",
       "<!-- 139685154287440 -->\n",
       "<g class=\"node\" id=\"node7\">\n",
       "<title>139685154287440</title>\n",
       "<polygon fill=\"none\" points=\"140.5,-415.5 140.5,-461.5 431.5,-461.5 431.5,-415.5 140.5,-415.5\" stroke=\"#000000\"/>\n",
       "<text fill=\"#000000\" font-family=\"Times,serif\" font-size=\"14.00\" text-anchor=\"middle\" x=\"219.5\" y=\"-434.8\">encoder1_act: Activation</text>\n",
       "<polyline fill=\"none\" points=\"298.5,-415.5 298.5,-461.5 \" stroke=\"#000000\"/>\n",
       "<text fill=\"#000000\" font-family=\"Times,serif\" font-size=\"14.00\" text-anchor=\"middle\" x=\"326.5\" y=\"-446.3\">input:</text>\n",
       "<polyline fill=\"none\" points=\"298.5,-438.5 354.5,-438.5 \" stroke=\"#000000\"/>\n",
       "<text fill=\"#000000\" font-family=\"Times,serif\" font-size=\"14.00\" text-anchor=\"middle\" x=\"326.5\" y=\"-423.3\">output:</text>\n",
       "<polyline fill=\"none\" points=\"354.5,-415.5 354.5,-461.5 \" stroke=\"#000000\"/>\n",
       "<text fill=\"#000000\" font-family=\"Times,serif\" font-size=\"14.00\" text-anchor=\"middle\" x=\"393\" y=\"-446.3\">(None, 20)</text>\n",
       "<polyline fill=\"none\" points=\"354.5,-438.5 431.5,-438.5 \" stroke=\"#000000\"/>\n",
       "<text fill=\"#000000\" font-family=\"Times,serif\" font-size=\"14.00\" text-anchor=\"middle\" x=\"393\" y=\"-423.3\">(None, 20)</text>\n",
       "</g>\n",
       "<!-- 139685154865552&#45;&gt;139685154287440 -->\n",
       "<g class=\"edge\" id=\"edge6\">\n",
       "<title>139685154865552-&gt;139685154287440</title>\n",
       "<path d=\"M286,-498.3799C286,-490.1745 286,-480.7679 286,-471.8786\" fill=\"none\" stroke=\"#000000\"/>\n",
       "<polygon fill=\"#000000\" points=\"289.5001,-471.784 286,-461.784 282.5001,-471.784 289.5001,-471.784\" stroke=\"#000000\"/>\n",
       "</g>\n",
       "<!-- 139685154868240 -->\n",
       "<g class=\"node\" id=\"node8\">\n",
       "<title>139685154868240</title>\n",
       "<polygon fill=\"none\" points=\"156.5,-332.5 156.5,-378.5 415.5,-378.5 415.5,-332.5 156.5,-332.5\" stroke=\"#000000\"/>\n",
       "<text fill=\"#000000\" font-family=\"Times,serif\" font-size=\"14.00\" text-anchor=\"middle\" x=\"219.5\" y=\"-351.8\">encoder_out: Dense</text>\n",
       "<polyline fill=\"none\" points=\"282.5,-332.5 282.5,-378.5 \" stroke=\"#000000\"/>\n",
       "<text fill=\"#000000\" font-family=\"Times,serif\" font-size=\"14.00\" text-anchor=\"middle\" x=\"310.5\" y=\"-363.3\">input:</text>\n",
       "<polyline fill=\"none\" points=\"282.5,-355.5 338.5,-355.5 \" stroke=\"#000000\"/>\n",
       "<text fill=\"#000000\" font-family=\"Times,serif\" font-size=\"14.00\" text-anchor=\"middle\" x=\"310.5\" y=\"-340.3\">output:</text>\n",
       "<polyline fill=\"none\" points=\"338.5,-332.5 338.5,-378.5 \" stroke=\"#000000\"/>\n",
       "<text fill=\"#000000\" font-family=\"Times,serif\" font-size=\"14.00\" text-anchor=\"middle\" x=\"377\" y=\"-363.3\">(None, 20)</text>\n",
       "<polyline fill=\"none\" points=\"338.5,-355.5 415.5,-355.5 \" stroke=\"#000000\"/>\n",
       "<text fill=\"#000000\" font-family=\"Times,serif\" font-size=\"14.00\" text-anchor=\"middle\" x=\"377\" y=\"-340.3\">(None, 1)</text>\n",
       "</g>\n",
       "<!-- 139685154287440&#45;&gt;139685154868240 -->\n",
       "<g class=\"edge\" id=\"edge7\">\n",
       "<title>139685154287440-&gt;139685154868240</title>\n",
       "<path d=\"M286,-415.3799C286,-407.1745 286,-397.7679 286,-388.8786\" fill=\"none\" stroke=\"#000000\"/>\n",
       "<polygon fill=\"#000000\" points=\"289.5001,-388.784 286,-378.784 282.5001,-388.784 289.5001,-388.784\" stroke=\"#000000\"/>\n",
       "</g>\n",
       "<!-- 139684761607120 -->\n",
       "<g class=\"node\" id=\"node9\">\n",
       "<title>139684761607120</title>\n",
       "<polygon fill=\"none\" points=\"0,-249.5 0,-295.5 260,-295.5 260,-249.5 0,-249.5\" stroke=\"#000000\"/>\n",
       "<text fill=\"#000000\" font-family=\"Times,serif\" font-size=\"14.00\" text-anchor=\"middle\" x=\"67\" y=\"-268.8\">circular_sin: Lambda</text>\n",
       "<polyline fill=\"none\" points=\"134,-249.5 134,-295.5 \" stroke=\"#000000\"/>\n",
       "<text fill=\"#000000\" font-family=\"Times,serif\" font-size=\"14.00\" text-anchor=\"middle\" x=\"162\" y=\"-280.3\">input:</text>\n",
       "<polyline fill=\"none\" points=\"134,-272.5 190,-272.5 \" stroke=\"#000000\"/>\n",
       "<text fill=\"#000000\" font-family=\"Times,serif\" font-size=\"14.00\" text-anchor=\"middle\" x=\"162\" y=\"-257.3\">output:</text>\n",
       "<polyline fill=\"none\" points=\"190,-249.5 190,-295.5 \" stroke=\"#000000\"/>\n",
       "<text fill=\"#000000\" font-family=\"Times,serif\" font-size=\"14.00\" text-anchor=\"middle\" x=\"225\" y=\"-280.3\">(None, 1)</text>\n",
       "<polyline fill=\"none\" points=\"190,-272.5 260,-272.5 \" stroke=\"#000000\"/>\n",
       "<text fill=\"#000000\" font-family=\"Times,serif\" font-size=\"14.00\" text-anchor=\"middle\" x=\"225\" y=\"-257.3\">(None, 1)</text>\n",
       "</g>\n",
       "<!-- 139685154868240&#45;&gt;139684761607120 -->\n",
       "<g class=\"edge\" id=\"edge8\">\n",
       "<title>139685154868240-&gt;139684761607120</title>\n",
       "<path d=\"M242.5453,-332.3799C223.9442,-322.4832 202.0585,-310.8388 182.556,-300.4625\" fill=\"none\" stroke=\"#000000\"/>\n",
       "<polygon fill=\"#000000\" points=\"183.9642,-297.2472 173.492,-295.6399 180.6762,-303.427 183.9642,-297.2472\" stroke=\"#000000\"/>\n",
       "</g>\n",
       "<!-- 139684761768912 -->\n",
       "<g class=\"node\" id=\"node10\">\n",
       "<title>139684761768912</title>\n",
       "<polygon fill=\"none\" points=\"278.5,-249.5 278.5,-295.5 539.5,-295.5 539.5,-249.5 278.5,-249.5\" stroke=\"#000000\"/>\n",
       "<text fill=\"#000000\" font-family=\"Times,serif\" font-size=\"14.00\" text-anchor=\"middle\" x=\"346\" y=\"-268.8\">circular_cos: Lambda</text>\n",
       "<polyline fill=\"none\" points=\"413.5,-249.5 413.5,-295.5 \" stroke=\"#000000\"/>\n",
       "<text fill=\"#000000\" font-family=\"Times,serif\" font-size=\"14.00\" text-anchor=\"middle\" x=\"441.5\" y=\"-280.3\">input:</text>\n",
       "<polyline fill=\"none\" points=\"413.5,-272.5 469.5,-272.5 \" stroke=\"#000000\"/>\n",
       "<text fill=\"#000000\" font-family=\"Times,serif\" font-size=\"14.00\" text-anchor=\"middle\" x=\"441.5\" y=\"-257.3\">output:</text>\n",
       "<polyline fill=\"none\" points=\"469.5,-249.5 469.5,-295.5 \" stroke=\"#000000\"/>\n",
       "<text fill=\"#000000\" font-family=\"Times,serif\" font-size=\"14.00\" text-anchor=\"middle\" x=\"504.5\" y=\"-280.3\">(None, 1)</text>\n",
       "<polyline fill=\"none\" points=\"469.5,-272.5 539.5,-272.5 \" stroke=\"#000000\"/>\n",
       "<text fill=\"#000000\" font-family=\"Times,serif\" font-size=\"14.00\" text-anchor=\"middle\" x=\"504.5\" y=\"-257.3\">(None, 1)</text>\n",
       "</g>\n",
       "<!-- 139685154868240&#45;&gt;139684761768912 -->\n",
       "<g class=\"edge\" id=\"edge9\">\n",
       "<title>139685154868240-&gt;139684761768912</title>\n",
       "<path d=\"M320.2624,-332.3799C334.4046,-322.8367 350.955,-311.6686 365.9066,-301.5793\" fill=\"none\" stroke=\"#000000\"/>\n",
       "<polygon fill=\"#000000\" points=\"368.1633,-304.2789 374.4948,-295.784 364.2477,-298.4764 368.1633,-304.2789\" stroke=\"#000000\"/>\n",
       "</g>\n",
       "<!-- 139684761769360 -->\n",
       "<g class=\"node\" id=\"node12\">\n",
       "<title>139684761769360</title>\n",
       "<polygon fill=\"none\" points=\"209,-166.5 209,-212.5 563,-212.5 563,-166.5 209,-166.5\" stroke=\"#000000\"/>\n",
       "<text fill=\"#000000\" font-family=\"Times,serif\" font-size=\"14.00\" text-anchor=\"middle\" x=\"289\" y=\"-185.8\">circular_out: Concatenate</text>\n",
       "<polyline fill=\"none\" points=\"369,-166.5 369,-212.5 \" stroke=\"#000000\"/>\n",
       "<text fill=\"#000000\" font-family=\"Times,serif\" font-size=\"14.00\" text-anchor=\"middle\" x=\"397\" y=\"-197.3\">input:</text>\n",
       "<polyline fill=\"none\" points=\"369,-189.5 425,-189.5 \" stroke=\"#000000\"/>\n",
       "<text fill=\"#000000\" font-family=\"Times,serif\" font-size=\"14.00\" text-anchor=\"middle\" x=\"397\" y=\"-174.3\">output:</text>\n",
       "<polyline fill=\"none\" points=\"425,-166.5 425,-212.5 \" stroke=\"#000000\"/>\n",
       "<text fill=\"#000000\" font-family=\"Times,serif\" font-size=\"14.00\" text-anchor=\"middle\" x=\"494\" y=\"-197.3\">[(None, 1), (None, 1)]</text>\n",
       "<polyline fill=\"none\" points=\"425,-189.5 563,-189.5 \" stroke=\"#000000\"/>\n",
       "<text fill=\"#000000\" font-family=\"Times,serif\" font-size=\"14.00\" text-anchor=\"middle\" x=\"494\" y=\"-174.3\">(None, 2)</text>\n",
       "</g>\n",
       "<!-- 139684761607120&#45;&gt;139684761769360 -->\n",
       "<g class=\"edge\" id=\"edge11\">\n",
       "<title>139684761607120-&gt;139684761769360</title>\n",
       "<path d=\"M200.9703,-249.4901C233.293,-239.0105 271.7144,-226.5535 305.1474,-215.7139\" fill=\"none\" stroke=\"#000000\"/>\n",
       "<polygon fill=\"#000000\" points=\"306.4586,-218.9683 314.8916,-212.5547 304.2996,-212.3095 306.4586,-218.9683\" stroke=\"#000000\"/>\n",
       "</g>\n",
       "<!-- 139684761768912&#45;&gt;139684761769360 -->\n",
       "<g class=\"edge\" id=\"edge12\">\n",
       "<title>139684761768912-&gt;139684761769360</title>\n",
       "<path d=\"M402.5932,-249.3799C400.2947,-241.0854 397.6561,-231.5633 395.1692,-222.5889\" fill=\"none\" stroke=\"#000000\"/>\n",
       "<polygon fill=\"#000000\" points=\"398.4956,-221.4862 392.4522,-212.784 391.7498,-223.3555 398.4956,-221.4862\" stroke=\"#000000\"/>\n",
       "</g>\n",
       "<!-- 139684761769680 -->\n",
       "<g class=\"node\" id=\"node13\">\n",
       "<title>139684761769680</title>\n",
       "<polygon fill=\"none\" points=\"301.5,-83.5 301.5,-129.5 674.5,-129.5 674.5,-83.5 301.5,-83.5\" stroke=\"#000000\"/>\n",
       "<text fill=\"#000000\" font-family=\"Times,serif\" font-size=\"14.00\" text-anchor=\"middle\" x=\"391\" y=\"-102.8\">decoder_concat: Concatenate</text>\n",
       "<polyline fill=\"none\" points=\"480.5,-83.5 480.5,-129.5 \" stroke=\"#000000\"/>\n",
       "<text fill=\"#000000\" font-family=\"Times,serif\" font-size=\"14.00\" text-anchor=\"middle\" x=\"508.5\" y=\"-114.3\">input:</text>\n",
       "<polyline fill=\"none\" points=\"480.5,-106.5 536.5,-106.5 \" stroke=\"#000000\"/>\n",
       "<text fill=\"#000000\" font-family=\"Times,serif\" font-size=\"14.00\" text-anchor=\"middle\" x=\"508.5\" y=\"-91.3\">output:</text>\n",
       "<polyline fill=\"none\" points=\"536.5,-83.5 536.5,-129.5 \" stroke=\"#000000\"/>\n",
       "<text fill=\"#000000\" font-family=\"Times,serif\" font-size=\"14.00\" text-anchor=\"middle\" x=\"605.5\" y=\"-114.3\">[(None, 1), (None, 2)]</text>\n",
       "<polyline fill=\"none\" points=\"536.5,-106.5 674.5,-106.5 \" stroke=\"#000000\"/>\n",
       "<text fill=\"#000000\" font-family=\"Times,serif\" font-size=\"14.00\" text-anchor=\"middle\" x=\"605.5\" y=\"-91.3\">(None, 3)</text>\n",
       "</g>\n",
       "<!-- 139685154391440&#45;&gt;139684761769680 -->\n",
       "<g class=\"edge\" id=\"edge13\">\n",
       "<title>139685154391440-&gt;139684761769680</title>\n",
       "<path d=\"M591,-747.4052C591,-715.3381 591,-655.5104 591,-604.5 591,-604.5 591,-604.5 591,-272.5 591,-224.4193 597.7644,-206.5949 572,-166 564.4481,-154.1011 553.578,-143.8869 542.1505,-135.4486\" fill=\"none\" stroke=\"#000000\"/>\n",
       "<polygon fill=\"#000000\" points=\"543.9785,-132.4567 533.7706,-129.6194 539.9811,-138.2031 543.9785,-132.4567\" stroke=\"#000000\"/>\n",
       "</g>\n",
       "<!-- 139684761769360&#45;&gt;139684761769680 -->\n",
       "<g class=\"edge\" id=\"edge14\">\n",
       "<title>139684761769360-&gt;139684761769680</title>\n",
       "<path d=\"M414.4127,-166.3799C425.9212,-157.0151 439.3527,-146.0855 451.5673,-136.1462\" fill=\"none\" stroke=\"#000000\"/>\n",
       "<polygon fill=\"#000000\" points=\"453.8385,-138.8105 459.3859,-129.784 449.4203,-133.3809 453.8385,-138.8105\" stroke=\"#000000\"/>\n",
       "</g>\n",
       "<!-- 139684761344016 -->\n",
       "<g class=\"node\" id=\"node14\">\n",
       "<title>139684761344016</title>\n",
       "<polygon fill=\"none\" points=\"349,-.5 349,-46.5 627,-46.5 627,-.5 349,-.5\" stroke=\"#000000\"/>\n",
       "<text fill=\"#000000\" font-family=\"Times,serif\" font-size=\"14.00\" text-anchor=\"middle\" x=\"411.5\" y=\"-19.8\">decoder_out: Dense</text>\n",
       "<polyline fill=\"none\" points=\"474,-.5 474,-46.5 \" stroke=\"#000000\"/>\n",
       "<text fill=\"#000000\" font-family=\"Times,serif\" font-size=\"14.00\" text-anchor=\"middle\" x=\"502\" y=\"-31.3\">input:</text>\n",
       "<polyline fill=\"none\" points=\"474,-23.5 530,-23.5 \" stroke=\"#000000\"/>\n",
       "<text fill=\"#000000\" font-family=\"Times,serif\" font-size=\"14.00\" text-anchor=\"middle\" x=\"502\" y=\"-8.3\">output:</text>\n",
       "<polyline fill=\"none\" points=\"530,-.5 530,-46.5 \" stroke=\"#000000\"/>\n",
       "<text fill=\"#000000\" font-family=\"Times,serif\" font-size=\"14.00\" text-anchor=\"middle\" x=\"578.5\" y=\"-31.3\">(None, 3)</text>\n",
       "<polyline fill=\"none\" points=\"530,-23.5 627,-23.5 \" stroke=\"#000000\"/>\n",
       "<text fill=\"#000000\" font-family=\"Times,serif\" font-size=\"14.00\" text-anchor=\"middle\" x=\"578.5\" y=\"-8.3\">(None, 38293)</text>\n",
       "</g>\n",
       "<!-- 139684761769680&#45;&gt;139684761344016 -->\n",
       "<g class=\"edge\" id=\"edge15\">\n",
       "<title>139684761769680-&gt;139684761344016</title>\n",
       "<path d=\"M488,-83.3799C488,-75.1745 488,-65.7679 488,-56.8786\" fill=\"none\" stroke=\"#000000\"/>\n",
       "<polygon fill=\"#000000\" points=\"491.5001,-56.784 488,-46.784 484.5001,-56.784 491.5001,-56.784\" stroke=\"#000000\"/>\n",
       "</g>\n",
       "</g>\n",
       "</svg>"
      ],
      "text/plain": [
       "<IPython.core.display.SVG object>"
      ]
     },
     "metadata": {},
     "output_type": "display_data"
    }
   ],
   "source": [
    "display(model.show_structure())"
   ]
  },
  {
   "cell_type": "markdown",
   "metadata": {},
   "source": [
    "## Train the best model\n",
    "\n",
    "No that we have decided the best dimensionality to be used, we can train the model on the whole dataset in a finer fashion (especially if a subset was used for tuning). The `train` can be called again to continue training if needed."
   ]
  },
  {
   "cell_type": "code",
   "execution_count": 12,
   "metadata": {
    "pycharm": {
     "is_executing": false,
     "name": "#%%\n"
    }
   },
   "outputs": [
    {
     "name": "stdout",
     "output_type": "stream",
     "text": [
      "epoch: 100/800, loss:  0.6774, time elapsed:  31.89s, time left:  223.22s\n",
      "epoch: 200/800, loss:  0.6739, time elapsed:  63.13s, time left:  189.38s\n",
      "epoch: 300/800, loss:  0.6723, time elapsed:  94.32s, time left:  157.20s\n",
      "epoch: 400/800, loss:  0.6719, time elapsed:  125.47s, time left:  125.47s\n",
      "epoch: 500/800, loss:  0.6718, time elapsed:  156.66s, time left:  94.00s\n",
      "epoch: 600/800, loss:  0.6714, time elapsed:  187.97s, time left:  62.66s\n",
      "epoch: 700/800, loss:  0.6714, time elapsed:  219.23s, time left:  31.32s\n",
      "epoch: 800/800, loss:  0.6713, time elapsed:  250.35s, time left:  0.00s\n"
     ]
    },
    {
     "data": {
      "text/plain": [
       "<keras.callbacks.History at 0x7f0ae4828e90>"
      ]
     },
     "execution_count": 12,
     "metadata": {},
     "output_type": "execute_result"
    }
   ],
   "source": [
    "model.train(sttpm, epochs=800, verbose=100, rate=2e-4)"
   ]
  },
  {
   "cell_type": "code",
   "execution_count": 13,
   "metadata": {
    "pycharm": {
     "is_executing": false,
     "name": "#%%\n"
    }
   },
   "outputs": [],
   "source": [
    "pseudotime = model.predict_pseudotime(sttpm)"
   ]
  },
  {
   "cell_type": "markdown",
   "metadata": {},
   "source": [
    "## Illustrations\n",
    "We illustrate the results on a circle, to show its circular nature. \n",
    "There is virtually no start and end of the circle.\n",
    "Red, green and blue represents G0/G1, S and G2/M phase respectively.\n",
    "The inner lines represents single cells. The cells spread across the\n",
    "The areas outside"
   ]
  },
  {
   "cell_type": "code",
   "execution_count": 14,
   "metadata": {
    "pycharm": {
     "is_executing": false,
     "name": "#%%\n"
    }
   },
   "outputs": [],
   "source": [
    "import cyclum.illustration"
   ]
  },
  {
   "cell_type": "code",
   "execution_count": 15,
   "metadata": {
    "pycharm": {
     "is_executing": false,
     "name": "#%%\n"
    }
   },
   "outputs": [
    {
     "data": {
      "image/png": "[encoded data removed]",
      "text/plain": [
       "<Figure size 432x288 with 1 Axes>"
      ]
     },
     "metadata": {
      "needs_background": "light"
     },
     "output_type": "display_data"
    }
   ],
   "source": [
    "color_map = {'stage': {\"g0/g1\": \"red\", \"s\": \"green\", \"g2/m\": \"blue\"},\n",
    "                 'subcluster': {\"intact\": \"cyan\", \"perturbed\": \"violet\"}}\n",
    "cyclum.illustration.plot_round_distr_color(pseudotime, label['stage'], color_map['stage'])\n",
    "pass\n"
   ]
  },
  {
   "cell_type": "code",
   "execution_count": 16,
   "metadata": {
    "pycharm": {
     "is_executing": false,
     "name": "#%%\n"
    }
   },
   "outputs": [],
   "source": [
    "# Save the model and reload it later\n",
    "# model.save(\"model.h5\")\n",
    "# cyclum.Autoencoder(filepath = \"model.h5\")"
   ]
  },
  {
   "cell_type": "code",
   "execution_count": 17,
   "metadata": {
    "pycharm": {
     "is_executing": false,
     "name": "#%%\n"
    }
   },
   "outputs": [],
   "source": [
    "# Save the pseudotime to analyze in R\n",
    "from cyclum.hdfrw import mat2hdf\n",
    "mat2hdf(pseudotime, 'cyclum-pseudotime.h5')"
   ]
  },
  {
   "cell_type": "code",
   "execution_count": 18,
   "metadata": {
    "pycharm": {
     "is_executing": false,
     "name": "#%%\n"
    }
   },
   "outputs": [],
   "source": [
    "# Save the dataset to anaylyze in R\n",
    "# mat2hdf(sttpm, '/home/shaoheng/Documents/data/EMTAB2805/sttpm.h5')"
   ]
  },
  {
   "cell_type": "code",
   "execution_count": null,
   "metadata": {},
   "outputs": [],
   "source": []
  }
 ],
 "metadata": {
  "kernelspec": {
   "display_name": "Python 3 [GPU]",
   "language": "python",
   "name": "optirun_python3"
  },
  "language_info": {
   "codemirror_mode": {
    "name": "ipython",
    "version": 3
   },
   "file_extension": ".py",
   "mimetype": "text/x-python",
   "name": "python",
   "nbconvert_exporter": "python",
   "pygments_lexer": "ipython3",
   "version": "3.7.4"
  },
  "pycharm": {
   "stem_cell": {
    "cell_type": "raw",
    "metadata": {
     "collapsed": false
    },
    "source": []
   }
  }
 },
 "nbformat": 4,
 "nbformat_minor": 1
}
